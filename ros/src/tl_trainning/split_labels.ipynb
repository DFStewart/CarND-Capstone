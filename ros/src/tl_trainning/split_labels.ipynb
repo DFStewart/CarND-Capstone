{
 "cells": [
  {
   "cell_type": "code",
   "execution_count": 1,
   "metadata": {
    "collapsed": true
   },
   "outputs": [],
   "source": [
    "import numpy as np\n",
    "import pandas as pd\n",
    "np.random.seed(1)"
   ]
  },
  {
   "cell_type": "code",
   "execution_count": 2,
   "metadata": {
    "collapsed": true
   },
   "outputs": [],
   "source": [
    "INPUT_LABELS_CSV = 'sim_labels.csv'\n",
    "OUTPUT_TRAIN_CSV = 'sim_train_labels.csv'\n",
    "OUTPUT_TEST_CSV = 'sim_test_labels.csv'"
   ]
  },
  {
   "cell_type": "code",
   "execution_count": 3,
   "metadata": {
    "collapsed": true
   },
   "outputs": [],
   "source": [
    "full_labels = pd.read_csv(INPUT_LABELS_CSV)"
   ]
  },
  {
   "cell_type": "code",
   "execution_count": 4,
   "metadata": {
    "collapsed": false
   },
   "outputs": [
    {
     "data": {
      "text/html": [
       "<div>\n",
       "<table border=\"1\" class=\"dataframe\">\n",
       "  <thead>\n",
       "    <tr style=\"text-align: right;\">\n",
       "      <th></th>\n",
       "      <th>image</th>\n",
       "      <th>width</th>\n",
       "      <th>height</th>\n",
       "      <th>class</th>\n",
       "      <th>ymin</th>\n",
       "      <th>xmin</th>\n",
       "      <th>ymax</th>\n",
       "      <th>xmax</th>\n",
       "    </tr>\n",
       "  </thead>\n",
       "  <tbody>\n",
       "    <tr>\n",
       "      <th>0</th>\n",
       "      <td>image_2017_09_24_11_30_50_805177.png</td>\n",
       "      <td>800</td>\n",
       "      <td>600</td>\n",
       "      <td>G</td>\n",
       "      <td>368.088</td>\n",
       "      <td>92.5422</td>\n",
       "      <td>472.670</td>\n",
       "      <td>136.878</td>\n",
       "    </tr>\n",
       "    <tr>\n",
       "      <th>1</th>\n",
       "      <td>image_2017_09_24_11_30_50_805177.png</td>\n",
       "      <td>800</td>\n",
       "      <td>600</td>\n",
       "      <td>G</td>\n",
       "      <td>385.542</td>\n",
       "      <td>458.8950</td>\n",
       "      <td>473.924</td>\n",
       "      <td>497.742</td>\n",
       "    </tr>\n",
       "    <tr>\n",
       "      <th>2</th>\n",
       "      <td>image_2017_09_24_11_30_50_805177.png</td>\n",
       "      <td>800</td>\n",
       "      <td>600</td>\n",
       "      <td>G</td>\n",
       "      <td>383.990</td>\n",
       "      <td>278.0710</td>\n",
       "      <td>476.044</td>\n",
       "      <td>320.297</td>\n",
       "    </tr>\n",
       "    <tr>\n",
       "      <th>3</th>\n",
       "      <td>image_2017_09_24_11_30_50_807843.png</td>\n",
       "      <td>800</td>\n",
       "      <td>600</td>\n",
       "      <td>G</td>\n",
       "      <td>399.061</td>\n",
       "      <td>122.7080</td>\n",
       "      <td>492.801</td>\n",
       "      <td>161.282</td>\n",
       "    </tr>\n",
       "    <tr>\n",
       "      <th>4</th>\n",
       "      <td>image_2017_09_24_11_30_50_807843.png</td>\n",
       "      <td>800</td>\n",
       "      <td>600</td>\n",
       "      <td>G</td>\n",
       "      <td>404.842</td>\n",
       "      <td>285.5080</td>\n",
       "      <td>492.970</td>\n",
       "      <td>322.008</td>\n",
       "    </tr>\n",
       "  </tbody>\n",
       "</table>\n",
       "</div>"
      ],
      "text/plain": [
       "                                  image  width  height class     ymin  \\\n",
       "0  image_2017_09_24_11_30_50_805177.png    800     600     G  368.088   \n",
       "1  image_2017_09_24_11_30_50_805177.png    800     600     G  385.542   \n",
       "2  image_2017_09_24_11_30_50_805177.png    800     600     G  383.990   \n",
       "3  image_2017_09_24_11_30_50_807843.png    800     600     G  399.061   \n",
       "4  image_2017_09_24_11_30_50_807843.png    800     600     G  404.842   \n",
       "\n",
       "       xmin     ymax     xmax  \n",
       "0   92.5422  472.670  136.878  \n",
       "1  458.8950  473.924  497.742  \n",
       "2  278.0710  476.044  320.297  \n",
       "3  122.7080  492.801  161.282  \n",
       "4  285.5080  492.970  322.008  "
      ]
     },
     "execution_count": 4,
     "metadata": {},
     "output_type": "execute_result"
    }
   ],
   "source": [
    "full_labels.head()"
   ]
  },
  {
   "cell_type": "code",
   "execution_count": 5,
   "metadata": {
    "collapsed": false
   },
   "outputs": [],
   "source": [
    "grouped = full_labels.groupby('image')"
   ]
  },
  {
   "cell_type": "code",
   "execution_count": 6,
   "metadata": {
    "collapsed": false
   },
   "outputs": [
    {
     "data": {
      "text/plain": [
       "3    139\n",
       "2     91\n",
       "1      7\n",
       "dtype: int64"
      ]
     },
     "execution_count": 6,
     "metadata": {},
     "output_type": "execute_result"
    }
   ],
   "source": [
    "grouped.apply(lambda x: len(x)).value_counts()"
   ]
  },
  {
   "cell_type": "markdown",
   "metadata": {},
   "source": [
    "### Split each file into a group into a list"
   ]
  },
  {
   "cell_type": "code",
   "execution_count": 7,
   "metadata": {
    "collapsed": false
   },
   "outputs": [],
   "source": [
    "gb = full_labels.groupby('image')"
   ]
  },
  {
   "cell_type": "code",
   "execution_count": 8,
   "metadata": {
    "collapsed": false
   },
   "outputs": [],
   "source": [
    "grouped_list = [gb.get_group(x) for x in gb.groups]"
   ]
  },
  {
   "cell_type": "code",
   "execution_count": 9,
   "metadata": {
    "collapsed": false
   },
   "outputs": [
    {
     "data": {
      "text/plain": [
       "237"
      ]
     },
     "execution_count": 9,
     "metadata": {},
     "output_type": "execute_result"
    }
   ],
   "source": [
    "len(grouped_list)"
   ]
  },
  {
   "cell_type": "code",
   "execution_count": 10,
   "metadata": {
    "collapsed": false
   },
   "outputs": [],
   "source": [
    "num_examples = len(grouped_list)\n",
    "train_index = np.random.choice(len(grouped_list), size=int(num_examples*0.8), replace=False)\n",
    "test_index = np.setdiff1d(list(range(num_examples)), train_index)"
   ]
  },
  {
   "cell_type": "code",
   "execution_count": 11,
   "metadata": {
    "collapsed": false
   },
   "outputs": [
    {
     "data": {
      "text/plain": [
       "(189, 48)"
      ]
     },
     "execution_count": 11,
     "metadata": {},
     "output_type": "execute_result"
    }
   ],
   "source": [
    "len(train_index), len(test_index)"
   ]
  },
  {
   "cell_type": "code",
   "execution_count": 12,
   "metadata": {
    "collapsed": false
   },
   "outputs": [],
   "source": [
    "# take first 200 files\n",
    "train = pd.concat([grouped_list[i] for i in train_index])\n",
    "test = pd.concat([grouped_list[i] for i in test_index])"
   ]
  },
  {
   "cell_type": "code",
   "execution_count": 13,
   "metadata": {
    "collapsed": false
   },
   "outputs": [
    {
     "data": {
      "text/plain": [
       "(488, 118)"
      ]
     },
     "execution_count": 13,
     "metadata": {},
     "output_type": "execute_result"
    }
   ],
   "source": [
    "len(train), len(test)"
   ]
  },
  {
   "cell_type": "code",
   "execution_count": 14,
   "metadata": {
    "collapsed": false
   },
   "outputs": [],
   "source": [
    "train.to_csv(OUTPUT_TRAIN_CSV, index=None)\n",
    "test.to_csv(OUTPUT_TEST_CSV, index=None)"
   ]
  },
  {
   "cell_type": "code",
   "execution_count": null,
   "metadata": {
    "collapsed": true
   },
   "outputs": [],
   "source": []
  }
 ],
 "metadata": {
  "kernelspec": {
   "display_name": "Python [default]",
   "language": "python",
   "name": "python3"
  },
  "language_info": {
   "codemirror_mode": {
    "name": "ipython",
    "version": 3
   },
   "file_extension": ".py",
   "mimetype": "text/x-python",
   "name": "python",
   "nbconvert_exporter": "python",
   "pygments_lexer": "ipython3",
   "version": "3.5.2"
  },
  "widgets": {
   "state": {},
   "version": "1.1.2"
  }
 },
 "nbformat": 4,
 "nbformat_minor": 0
}
